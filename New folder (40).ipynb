{
 "cells": [
  {
   "cell_type": "code",
   "execution_count": 1,
   "id": "a9f051bf",
   "metadata": {},
   "outputs": [
    {
     "ename": "ImportError",
     "evalue": "cannot import name 'GaussianHmm' from 'hmmlearn.hmm' (C:\\ProgramData\\Anaconda3\\lib\\site-packages\\hmmlearn\\hmm.py)",
     "output_type": "error",
     "traceback": [
      "\u001b[1;31m---------------------------------------------------------------------------\u001b[0m",
      "\u001b[1;31mImportError\u001b[0m                               Traceback (most recent call last)",
      "\u001b[1;32m~\\AppData\\Local\\Temp/ipykernel_11612/1736632412.py\u001b[0m in \u001b[0;36m<module>\u001b[1;34m\u001b[0m\n\u001b[0;32m      3\u001b[0m \u001b[1;32mimport\u001b[0m \u001b[0mnumpy\u001b[0m \u001b[1;32mas\u001b[0m \u001b[0mnp\u001b[0m\u001b[1;33m\u001b[0m\u001b[1;33m\u001b[0m\u001b[0m\n\u001b[0;32m      4\u001b[0m \u001b[1;32mimport\u001b[0m \u001b[0mpandas\u001b[0m \u001b[1;32mas\u001b[0m \u001b[0mpd\u001b[0m\u001b[1;33m\u001b[0m\u001b[1;33m\u001b[0m\u001b[0m\n\u001b[1;32m----> 5\u001b[1;33m \u001b[1;32mfrom\u001b[0m \u001b[0mhmmlearn\u001b[0m\u001b[1;33m.\u001b[0m\u001b[0mhmm\u001b[0m \u001b[1;32mimport\u001b[0m \u001b[0mGaussianHmm\u001b[0m\u001b[1;33m\u001b[0m\u001b[1;33m\u001b[0m\u001b[0m\n\u001b[0m",
      "\u001b[1;31mImportError\u001b[0m: cannot import name 'GaussianHmm' from 'hmmlearn.hmm' (C:\\ProgramData\\Anaconda3\\lib\\site-packages\\hmmlearn\\hmm.py)"
     ]
    }
   ],
   "source": [
    "%matplotlib inline\n",
    "import pylab\n",
    "import numpy as np\n",
    "import pandas as pd\n",
    "from hmmlearn.hmm import GaussianHmm\n"
   ]
  },
  {
   "cell_type": "code",
   "execution_count": 2,
   "id": "74b2f55b",
   "metadata": {},
   "outputs": [
    {
     "name": "stdout",
     "output_type": "stream",
     "text": [
      "Requirement already satisfied: hmmlearn in c:\\programdata\\anaconda3\\lib\\site-packages (0.2.6)\n",
      "Requirement already satisfied: scipy>=0.19 in c:\\programdata\\anaconda3\\lib\\site-packages (from hmmlearn) (1.7.1)\n",
      "Requirement already satisfied: numpy>=1.10 in c:\\programdata\\anaconda3\\lib\\site-packages (from hmmlearn) (1.20.3)\n",
      "Requirement already satisfied: scikit-learn>=0.16 in c:\\programdata\\anaconda3\\lib\\site-packages (from hmmlearn) (0.24.2)\n",
      "Requirement already satisfied: joblib>=0.11 in c:\\programdata\\anaconda3\\lib\\site-packages (from scikit-learn>=0.16->hmmlearn) (1.1.0)\n",
      "Requirement already satisfied: threadpoolctl>=2.0.0 in c:\\programdata\\anaconda3\\lib\\site-packages (from scikit-learn>=0.16->hmmlearn) (2.2.0)\n"
     ]
    }
   ],
   "source": [
    "!pip install hmmlearn"
   ]
  },
  {
   "cell_type": "code",
   "execution_count": 3,
   "id": "0ea4249e",
   "metadata": {},
   "outputs": [],
   "source": [
    "%matplotlib inline\n",
    "import pylab\n",
    "import numpy as np\n",
    "import pandas as pd\n",
    "from hmmlearn.hmm import GaussianHMM"
   ]
  },
  {
   "cell_type": "code",
   "execution_count": 5,
   "id": "8143c694",
   "metadata": {},
   "outputs": [
    {
     "data": {
      "text/html": [
       "<div>\n",
       "<style scoped>\n",
       "    .dataframe tbody tr th:only-of-type {\n",
       "        vertical-align: middle;\n",
       "    }\n",
       "\n",
       "    .dataframe tbody tr th {\n",
       "        vertical-align: top;\n",
       "    }\n",
       "\n",
       "    .dataframe thead th {\n",
       "        text-align: right;\n",
       "    }\n",
       "</style>\n",
       "<table border=\"1\" class=\"dataframe\">\n",
       "  <thead>\n",
       "    <tr style=\"text-align: right;\">\n",
       "      <th></th>\n",
       "      <th>row</th>\n",
       "      <th>rt</th>\n",
       "      <th>corr</th>\n",
       "      <th>Pacc</th>\n",
       "      <th>prev</th>\n",
       "    </tr>\n",
       "  </thead>\n",
       "  <tbody>\n",
       "    <tr>\n",
       "      <th>0</th>\n",
       "      <td>1</td>\n",
       "      <td>6.456770</td>\n",
       "      <td>cor</td>\n",
       "      <td>0.0</td>\n",
       "      <td>inc</td>\n",
       "    </tr>\n",
       "    <tr>\n",
       "      <th>1</th>\n",
       "      <td>2</td>\n",
       "      <td>5.602119</td>\n",
       "      <td>cor</td>\n",
       "      <td>0.0</td>\n",
       "      <td>cor</td>\n",
       "    </tr>\n",
       "    <tr>\n",
       "      <th>2</th>\n",
       "      <td>3</td>\n",
       "      <td>6.253829</td>\n",
       "      <td>inc</td>\n",
       "      <td>0.0</td>\n",
       "      <td>cor</td>\n",
       "    </tr>\n",
       "    <tr>\n",
       "      <th>3</th>\n",
       "      <td>4</td>\n",
       "      <td>5.451038</td>\n",
       "      <td>inc</td>\n",
       "      <td>0.0</td>\n",
       "      <td>inc</td>\n",
       "    </tr>\n",
       "    <tr>\n",
       "      <th>4</th>\n",
       "      <td>5</td>\n",
       "      <td>5.872118</td>\n",
       "      <td>inc</td>\n",
       "      <td>0.0</td>\n",
       "      <td>inc</td>\n",
       "    </tr>\n",
       "  </tbody>\n",
       "</table>\n",
       "</div>"
      ],
      "text/plain": [
       "   row        rt corr  Pacc prev\n",
       "0    1  6.456770  cor   0.0  inc\n",
       "1    2  5.602119  cor   0.0  cor\n",
       "2    3  6.253829  inc   0.0  cor\n",
       "3    4  5.451038  inc   0.0  inc\n",
       "4    5  5.872118  inc   0.0  inc"
      ]
     },
     "execution_count": 5,
     "metadata": {},
     "output_type": "execute_result"
    }
   ],
   "source": [
    "df = pd.read_csv('C:/Users/maity/OneDrive/Desktop/New folder (40)/speed.csv', sep = \",\")\n",
    "df.head(5)"
   ]
  },
  {
   "cell_type": "code",
   "execution_count": 6,
   "id": "59e080e6",
   "metadata": {},
   "outputs": [],
   "source": [
    "x = df.drop([\"row\" , \"corr\"], axis = 1)\n",
    "x[\"prev\"] = pd.factorize(x[\"prev\"])[0]"
   ]
  },
  {
   "cell_type": "code",
   "execution_count": 7,
   "id": "66dad642",
   "metadata": {},
   "outputs": [
    {
     "data": {
      "text/plain": [
       "ConvergenceMonitor(\n",
       "    history=[-491.0712660649909, -182.71685923342585, -120.42108418062575, -117.0326152369211, -116.55758174216903, -116.46544010163925, -116.44940310316693, -116.44670518280664],\n",
       "    iter=8,\n",
       "    n_iter=10000,\n",
       "    tol=0.01,\n",
       "    verbose=False,\n",
       ")"
      ]
     },
     "execution_count": 7,
     "metadata": {},
     "output_type": "execute_result"
    }
   ],
   "source": [
    "model = GaussianHMM(n_components= 2, n_iter=10000, random_state=1).fit(x)\n",
    "model.monitor_"
   ]
  },
  {
   "cell_type": "code",
   "execution_count": 8,
   "id": "4ce0636a",
   "metadata": {},
   "outputs": [
    {
     "data": {
      "text/plain": [
       "0    243\n",
       "1    196\n",
       "dtype: int64"
      ]
     },
     "execution_count": 8,
     "metadata": {},
     "output_type": "execute_result"
    }
   ],
   "source": [
    "states  = model.predict(x)\n",
    "pd.Series(states).value_counts()"
   ]
  },
  {
   "cell_type": "code",
   "execution_count": 9,
   "id": "2f245c99",
   "metadata": {},
   "outputs": [
    {
     "data": {
      "text/plain": [
       "array([6.40098754, 5.56434105])"
      ]
     },
     "execution_count": 9,
     "metadata": {},
     "output_type": "execute_result"
    }
   ],
   "source": [
    "model.means_[:,0]"
   ]
  },
  {
   "cell_type": "code",
   "execution_count": 10,
   "id": "14025c1c",
   "metadata": {},
   "outputs": [
    {
     "data": {
      "text/plain": [
       "[<matplotlib.lines.Line2D at 0x1587a7f19a0>]"
      ]
     },
     "execution_count": 10,
     "metadata": {},
     "output_type": "execute_result"
    },
    {
     "data": {
      "image/png": "[encoded data removed]",
      "text/plain": [
       "<Figure size 1440x72 with 1 Axes>"
      ]
     },
     "metadata": {
      "needs_background": "light"
     },
     "output_type": "display_data"
    }
   ],
   "source": [
    "fig = pylab.figure(figsize=(20, 1))\n",
    "ax = fig.add_subplot(111)\n",
    "ax.grid(True)\n",
    "ax.set_xlabel(\"Record Number\")\n",
    "ax.set_ylabel(\"State\")\n",
    "ax.plot(states)"
   ]
  },
  {
   "cell_type": "code",
   "execution_count": null,
   "id": "89ae0310",
   "metadata": {},
   "outputs": [],
   "source": []
  }
 ],
 "metadata": {
  "kernelspec": {
   "display_name": "Python 3 (ipykernel)",
   "language": "python",
   "name": "python3"
  },
  "language_info": {
   "codemirror_mode": {
    "name": "ipython",
    "version": 3
   },
   "file_extension": ".py",
   "mimetype": "text/x-python",
   "name": "python",
   "nbconvert_exporter": "python",
   "pygments_lexer": "ipython3",
   "version": "3.9.7"
  }
 },
 "nbformat": 4,
 "nbformat_minor": 5
}
